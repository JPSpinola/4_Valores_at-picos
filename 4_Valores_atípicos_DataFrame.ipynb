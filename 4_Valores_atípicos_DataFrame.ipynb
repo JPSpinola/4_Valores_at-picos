{
  "nbformat": 4,
  "nbformat_minor": 0,
  "metadata": {
    "colab": {
      "provenance": [],
      "authorship_tag": "ABX9TyPrYkFiD31j9LJtZR0jZSX/",
      "include_colab_link": true
    },
    "kernelspec": {
      "name": "python3",
      "display_name": "Python 3"
    },
    "language_info": {
      "name": "python"
    }
  },
  "cells": [
    {
      "cell_type": "markdown",
      "metadata": {
        "id": "view-in-github",
        "colab_type": "text"
      },
      "source": [
        "<a href=\"https://colab.research.google.com/github/JPSpinola/4_Valores_at-picos/blob/main/4_Valores_at%C3%ADpicos_DataFrame.ipynb\" target=\"_parent\"><img src=\"https://colab.research.google.com/assets/colab-badge.svg\" alt=\"Open In Colab\"/></a>"
      ]
    },
    {
      "cell_type": "code",
      "execution_count": 33,
      "metadata": {
        "id": "nODaStS_DWDl"
      },
      "outputs": [],
      "source": [
        "#Importamos las librerias pandas, numpy y matplotlip respectivamente \n",
        "import pandas as pd\n",
        "import numpy as np\n",
        "import matplotlib.pyplot as plt"
      ]
    },
    {
      "cell_type": "code",
      "source": [
        "#Cargar aechivos csv desde equipo \n",
        "from google.colab import files \n",
        "files.upload()"
      ],
      "metadata": {
        "id": "0IbQcj-VDoZZ"
      },
      "execution_count": null,
      "outputs": []
    },
    {
      "cell_type": "code",
      "source": [
        "#Cargar desde un archivo .csv sin indice\n",
        "data=pd.read_csv(\"Ventas_totales.csv\")"
      ],
      "metadata": {
        "id": "SxmU7gwLD4tJ"
      },
      "execution_count": 35,
      "outputs": []
    },
    {
      "cell_type": "code",
      "source": [
        "#Verificamos informacion del df\n",
        "data.info()"
      ],
      "metadata": {
        "id": "7H1NIWlmEDqJ"
      },
      "execution_count": null,
      "outputs": []
    },
    {
      "cell_type": "code",
      "source": [
        "#Corroboramos valores nulos \n",
        "valores_nulos=data.isnull().sum()\n",
        "valores_nulos"
      ],
      "metadata": {
        "id": "HUk1zVJWEmqK"
      },
      "execution_count": null,
      "outputs": []
    },
    {
      "cell_type": "markdown",
      "source": [
        "**PROCEDIMIENTO PARA ELIMINAR VALORES NULOS EN DATAFRAME**"
      ],
      "metadata": {
        "id": "5xeBY6JQE3s0"
      }
    },
    {
      "cell_type": "code",
      "source": [
        "#Reemplazmamos valores nulos del datafraeme con \"bfill\"\n",
        "data1=data.fillna(method=\"bfill\")\n",
        "data1"
      ],
      "metadata": {
        "id": "yjEWRjlXE9ki"
      },
      "execution_count": null,
      "outputs": []
    },
    {
      "cell_type": "code",
      "source": [
        "#Corroboramos valores nulos del dataframe\n",
        "valores_nulos=data1.isnull().sum()\n",
        "valores_nulos"
      ],
      "metadata": {
        "id": "KvluYdn1FSfn"
      },
      "execution_count": null,
      "outputs": []
    },
    {
      "cell_type": "code",
      "source": [
        "#Remplazamos valores nulos del dataframe con \"mean\"\n",
        "#Realizamos una copia del dataframe\n",
        "data2=data.copy()\n",
        "data2=data2.fillna(round(data.mean(),1))\n",
        "data2"
      ],
      "metadata": {
        "id": "cUri2wLwFqk7"
      },
      "execution_count": null,
      "outputs": []
    },
    {
      "cell_type": "code",
      "source": [
        "#Corroboramos valores nulos del dataframe\n",
        "valores_nulos=data2.isnull().sum()\n",
        "valores_nulos"
      ],
      "metadata": {
        "id": "1cV1aVkbGHha"
      },
      "execution_count": null,
      "outputs": []
    },
    {
      "cell_type": "code",
      "source": [
        "#Realizamos diagrama de caja de cada columna del df\n",
        "fig = plt.figure(figsize=(15,8))\n",
        "data2.plot(kind='box', vert=False)\n",
        "plt.title(\"Valores Atípicos del DataFrame\")\n",
        "plt.show() # dibujamos el diagrama"
      ],
      "metadata": {
        "id": "eIwq6l8xJMoa"
      },
      "execution_count": null,
      "outputs": []
    },
    {
      "cell_type": "markdown",
      "source": [
        "**PROCEDIMIENTO \"DESVIACIÓN ESTÁNDAR\" PARA ELIMINAR OUTLIERS EN DATAFRAME**"
      ],
      "metadata": {
        "id": "mZD6imaIKz6S"
      }
    },
    {
      "cell_type": "code",
      "source": [
        "#Método aplicando desviación estándar. Encuentro los valores extremos\n",
        "y=data2\n",
        "Limite_Superior= y.mean() + 3*y.std()\n",
        "Limite_Inferior= y.mean() - 3*y.std()\n",
        "print(\"Límite superior permitido\", Limite_Superior)\n",
        "print(\"Límite inferior permitido\", Limite_Inferior)"
      ],
      "metadata": {
        "id": "eDUn8oGnKx8A"
      },
      "execution_count": null,
      "outputs": []
    },
    {
      "cell_type": "code",
      "source": [
        "#Encontramos Outliers del DataFrame\n",
        "outliers= data2[(y>Limite_Superior)|(y<Limite_Inferior)]\n",
        "outliers"
      ],
      "metadata": {
        "id": "-hxYzjoJLo3O"
      },
      "execution_count": null,
      "outputs": []
    },
    {
      "cell_type": "code",
      "source": [
        "#Obtenemos datos sin Outliers\n",
        "data3= data2[(y<=Limite_Superior)&(y>=Limite_Inferior)]\n",
        "data3"
      ],
      "metadata": {
        "id": "JXl--_lYL5tX"
      },
      "execution_count": null,
      "outputs": []
    },
    {
      "cell_type": "code",
      "source": [
        "#Eliminamos columnas innecesarias\n",
        "data4= data3.drop(['indice_tiempo'], axis=1) # axis=1 para eliminar COLUMNAS, axis=0 para eliminar FILAS\n",
        "data4"
      ],
      "metadata": {
        "id": "aF8g1DctMrBH"
      },
      "execution_count": null,
      "outputs": []
    },
    {
      "cell_type": "code",
      "source": [
        "#Corroboramos valores nulos del dataframe\n",
        "valores_nulos=data4.isnull().sum()\n",
        "valores_nulos"
      ],
      "metadata": {
        "id": "CQgr6QZMNh8f"
      },
      "execution_count": null,
      "outputs": []
    },
    {
      "cell_type": "code",
      "source": [
        "#Reemplazamos valores atípicos (nulos) del DataFrame con \"mean\"\n",
        "#Realizamos una copia del DataFrame\n",
        "data_clean=data4.copy()\n",
        "data_clean=data_clean.fillna(round(data4.mean(),1))\n",
        "data_clean"
      ],
      "metadata": {
        "id": "tr3zU3csNLEZ"
      },
      "execution_count": null,
      "outputs": []
    },
    {
      "cell_type": "code",
      "source": [
        "#Corroboramos valores nulos del DataFrame LIMPIO\n",
        "valores_nulos=data_clean.isnull().sum()\n",
        "valores_nulos"
      ],
      "metadata": {
        "id": "Pz66DPaNN14Q"
      },
      "execution_count": null,
      "outputs": []
    },
    {
      "cell_type": "markdown",
      "source": [
        "**PROCEDIMIENTO \"CUANTILES\" PARA SUSTITUIR OUTLIERS EN DATAFRAME**"
      ],
      "metadata": {
        "id": "CJTDeyt3OTVs"
      }
    },
    {
      "cell_type": "code",
      "source": [
        "#Método aplicando Cuartiles. Encuentro cuartiles 0.25 y 0.75\n",
        "y=data2\n",
        "\n",
        "percentile25=y.quantile(0.25) #Q1\n",
        "percentile75=y.quantile(0.75) #Q2\n",
        "iqr= percentile75 - percentile25\n",
        "\n",
        "Limite_Superior_iqr= percentile75 + 1.5*iqr\n",
        "Limite_Inferior_iqr= percentile25 + 1.5*iqr\n",
        "print(\"Límite superior permitido\", Limite_Superior_iqr)\n",
        "print(\"Límite inferior permitido\", Limite_Inferior_iqr)"
      ],
      "metadata": {
        "id": "wqc3MYcRObWA"
      },
      "execution_count": null,
      "outputs": []
    },
    {
      "cell_type": "code",
      "source": [
        "#Encontramos Outliers del DataFrame\n",
        "outlier_iqr= data2[(y>Limite_Superior_iqr)&(y<Limite_Inferior_iqr)]\n",
        "outlier_iqr"
      ],
      "metadata": {
        "id": "xtt8PY_7Pi_g"
      },
      "execution_count": null,
      "outputs": []
    },
    {
      "cell_type": "code",
      "source": [
        "#Obtenemos datos limpios del DataFrame\n",
        "data3_iqr= data2[(y<=Limite_Superior_iqr)&(y>=Limite_Inferior_iqr)]\n",
        "data3_iqr"
      ],
      "metadata": {
        "id": "Z8D4nfqIQNwP"
      },
      "execution_count": null,
      "outputs": []
    },
    {
      "cell_type": "code",
      "source": [
        "#Eliminamos columnsa innecesarias\n",
        "data4_iqr= data3_iqr.drop(['indice_tiempo'], axis=1) # axis=1 para eliminar COLUMNAS, axis=0 para eliminar FILAS\n",
        "data4_iqr"
      ],
      "metadata": {
        "id": "9z3H2tbmQg03"
      },
      "execution_count": null,
      "outputs": []
    },
    {
      "cell_type": "code",
      "source": [
        "#Corroboramos valores nulos del dataframe LIMPIO\n",
        "valores_nulos=data4_iqr.isnull().sum()\n",
        "valores_nulos"
      ],
      "metadata": {
        "id": "EqrfX96nQ_84"
      },
      "execution_count": null,
      "outputs": []
    },
    {
      "cell_type": "code",
      "source": [
        "#Reemplazamos valores atípicos (nulos) del dataframe con \"mean\"\n",
        "#Realizamos una copia del dataframe\n",
        "data5_iqr=data4_iqr.copy()\n",
        "data5_iqr=data5_iqr.fillna(round(data4_iqr.mean(),1))\n",
        "data5_iqr"
      ],
      "metadata": {
        "id": "RJ7Y3juzSoIS"
      },
      "execution_count": null,
      "outputs": []
    },
    {
      "cell_type": "code",
      "source": [
        "# Unimos la columna 'indice_tiempo' con el dataframe\n",
        "\n",
        "indice_tiempo=data2['indice_tiempo']\n",
        "Datos_limpios = pd.concat([indice_tiempo, data5_iqr], axis=1)\n",
        "Datos_limpios"
      ],
      "metadata": {
        "id": "D8EuCDReTBHx"
      },
      "execution_count": null,
      "outputs": []
    },
    {
      "cell_type": "code",
      "source": [
        "#Corroboramos valores nulos del dataframe LIMPIO\n",
        "valores_nulos=Datos_limpios.isnull().sum()\n",
        "valores_nulos"
      ],
      "metadata": {
        "id": "vpBa-0_wTsyF"
      },
      "execution_count": null,
      "outputs": []
    },
    {
      "cell_type": "code",
      "source": [
        "#Convertir DataFrame a CSV\n",
        "Datos_limpios.to_csv(\"Datos_limpios.csv\")"
      ],
      "metadata": {
        "id": "pfec4ZqJT1ZD"
      },
      "execution_count": 65,
      "outputs": []
    },
    {
      "cell_type": "code",
      "source": [
        "#Descargar archivo filtrado en CSV\n",
        "from google.colab import files\n",
        "\n",
        "files.download(\"Datos_limpios.csv\")"
      ],
      "metadata": {
        "colab": {
          "base_uri": "https://localhost:8080/",
          "height": 17
        },
        "id": "CQFU0pj2UAtG",
        "outputId": "f6e55506-25a1-4510-cf96-ef50a8852e29"
      },
      "execution_count": 67,
      "outputs": [
        {
          "output_type": "display_data",
          "data": {
            "text/plain": [
              "<IPython.core.display.Javascript object>"
            ],
            "application/javascript": [
              "\n",
              "    async function download(id, filename, size) {\n",
              "      if (!google.colab.kernel.accessAllowed) {\n",
              "        return;\n",
              "      }\n",
              "      const div = document.createElement('div');\n",
              "      const label = document.createElement('label');\n",
              "      label.textContent = `Downloading \"${filename}\": `;\n",
              "      div.appendChild(label);\n",
              "      const progress = document.createElement('progress');\n",
              "      progress.max = size;\n",
              "      div.appendChild(progress);\n",
              "      document.body.appendChild(div);\n",
              "\n",
              "      const buffers = [];\n",
              "      let downloaded = 0;\n",
              "\n",
              "      const channel = await google.colab.kernel.comms.open(id);\n",
              "      // Send a message to notify the kernel that we're ready.\n",
              "      channel.send({})\n",
              "\n",
              "      for await (const message of channel.messages) {\n",
              "        // Send a message to notify the kernel that we're ready.\n",
              "        channel.send({})\n",
              "        if (message.buffers) {\n",
              "          for (const buffer of message.buffers) {\n",
              "            buffers.push(buffer);\n",
              "            downloaded += buffer.byteLength;\n",
              "            progress.value = downloaded;\n",
              "          }\n",
              "        }\n",
              "      }\n",
              "      const blob = new Blob(buffers, {type: 'application/binary'});\n",
              "      const a = document.createElement('a');\n",
              "      a.href = window.URL.createObjectURL(blob);\n",
              "      a.download = filename;\n",
              "      div.appendChild(a);\n",
              "      a.click();\n",
              "      div.remove();\n",
              "    }\n",
              "  "
            ]
          },
          "metadata": {}
        },
        {
          "output_type": "display_data",
          "data": {
            "text/plain": [
              "<IPython.core.display.Javascript object>"
            ],
            "application/javascript": [
              "download(\"download_b09c928b-6496-4864-bc6b-152fd43d8577\", \"Datos_limpios.csv\", 17430)"
            ]
          },
          "metadata": {}
        }
      ]
    }
  ]
}